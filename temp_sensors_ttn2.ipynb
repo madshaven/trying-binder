{
 "cells": [
  {
   "cell_type": "markdown",
   "id": "14c7dc9c",
   "metadata": {},
   "source": [
    "Retreve data from a storage at The Things Network and plot the main results."
   ]
  },
  {
   "cell_type": "code",
   "execution_count": null,
   "id": "dfaf9b54",
   "metadata": {},
   "outputs": [],
   "source": [
    "# data management\n",
    "import requests\n",
    "import json\n",
    "import pandas as pd\n",
    "import numpy as np"
   ]
  },
  {
   "cell_type": "code",
   "execution_count": null,
   "id": "879c91a5",
   "metadata": {},
   "outputs": [],
   "source": [
    "# plotting -- add nice date formatter for x-axis\n",
    "from matplotlib import pyplot as plt\n",
    "from datetime import datetime, timedelta, date\n",
    "import matplotlib.dates as mdates\n",
    "import matplotlib.units as munits\n",
    "converter = mdates.ConciseDateConverter()\n",
    "munits.registry[np.datetime64] = converter\n",
    "munits.registry[date] = converter\n",
    "munits.registry[datetime] = converter"
   ]
  },
  {
   "cell_type": "markdown",
   "id": "fd87dc37",
   "metadata": {},
   "source": [
    "Now, it is time to get the actual data. We need to do a HTTP request, and to be authorized to do so."
   ]
  },
  {
   "cell_type": "code",
   "execution_count": null,
   "id": "3c97a979",
   "metadata": {},
   "outputs": [],
   "source": [
    "# name of the app on TTN\n",
    "app = 'glos-office-sensing'\n",
    "\n",
    "# we have four temperature sensors at Tiller\n",
    "devices = ['eui-a840416781831be1']\n",
    "\n",
    "# authorization key (should have been hidden, but this is just for reading, so, well, let's say it's ok, this time!)\n",
    "akey = 'NNSXS.CEETDSAFAL2A4UM4N5DH4N5ASU2RHUVWBTXIQDA.ELMAAXUVEISX4DVJGL2EJLXKLAFGINZEAQOJVEW2EX5F6ETJAO2Q'"
   ]
  },
  {
   "cell_type": "code",
   "execution_count": null,
   "id": "c734e909",
   "metadata": {},
   "outputs": [],
   "source": [
    "# URL for requesting all data\n",
    "url = f'https://eu1.cloud.thethings.network/api/v3/as/applications/{app}/packages/storage/'\n",
    "\n",
    "# how to get data from just one unit, in this case, the first\n",
    "url0 = f'https://eu1.cloud.thethings.network/api/v3/as/applications/{app}/devices/{devices[0]}/packages/storage/'\n",
    "\n",
    "# headers, for the http GET request\n",
    "headers = {\n",
    "    'Accept': 'text/event-stream', \n",
    "    'Authorization': f'Bearer {akey}',\n",
    "}\n",
    "params =  {\n",
    "    # 'after': '2021-09-21T00:00:00Z',  # just receive after this\n",
    "    # 'field_mask': 'up.uplink_message.decoded_payload',  # just receive this info\n",
    "}"
   ]
  },
  {
   "cell_type": "code",
   "execution_count": null,
   "id": "a598a379",
   "metadata": {},
   "outputs": [],
   "source": [
    "# let's make the actual request, and hope for response code 200 -- OK!\n",
    "r = requests.get(url, headers=headers, params=params)\n",
    "r"
   ]
  },
  {
   "cell_type": "markdown",
   "id": "359ec5a7",
   "metadata": {},
   "source": [
    "The data is stored/retrieved in 'r.text' as a list of json-objects. Let us now load this as more manageable data."
   ]
  },
  {
   "cell_type": "code",
   "execution_count": null,
   "id": "e8bcddac",
   "metadata": {},
   "outputs": [],
   "source": [
    "def parse_response(r):\n",
    "    # parse the response and return a list of json-loads-objects (dicts)\n",
    "    # we filter out lines that have no info, and then those with no decoded payload\n",
    "    out = [json.loads(line) for line in r.text.splitlines() if len(line)]\n",
    "    out = [item for item in out if 'decoded_payload' in item['result']['uplink_message']]\n",
    "    return out"
   ]
  },
  {
   "cell_type": "code",
   "execution_count": null,
   "id": "93d83262",
   "metadata": {},
   "outputs": [],
   "source": [
    "# let's parse the results, and see if we get something meaningful\n",
    "p = parse_response(r)\n",
    "# print(p[0])  # uncomment this to see the datastructure!\n",
    "print(p[0]['result']['end_device_ids']['device_id'])\n",
    "print(len(p))"
   ]
  },
  {
   "cell_type": "markdown",
   "id": "d125bd6e",
   "metadata": {},
   "source": [
    "Json-dicts are neat for look up of individual data, but not so nice for direct plotting. Let's define some functions to filter out data and make us some lists, that are easier to handle. We take one data point from each json object in the list 'p'."
   ]
  },
  {
   "cell_type": "code",
   "execution_count": null,
   "id": "f2202903",
   "metadata": {},
   "outputs": [],
   "source": [
    "def p2devID(p):\n",
    "    # return the device id for each item \n",
    "    # p = parse_response(r)\n",
    "    return [item['result']['end_device_ids']['device_id'] for item in p]\n",
    "\n",
    "def p2payload(p):\n",
    "    # return the decoded payload for each item \n",
    "    return [item['result']['uplink_message']['decoded_payload'] for item in p]\n",
    "    \n",
    "def p2rssi(p, datano=0):\n",
    "    # return the signal strength for each item \n",
    "    return [item['result']['uplink_message']['rx_metadata'][datano]['rssi'] for item in p]\n",
    "        \n",
    "def p2time(p):\n",
    "    # return the received time for each item \n",
    "    return [pd.to_datetime(item['result']['received_at']) for item in p]"
   ]
  },
  {
   "cell_type": "code",
   "execution_count": null,
   "id": "445f15ee",
   "metadata": {},
   "outputs": [],
   "source": [
    "# we can now test the functions, to see if the results are satisfactory\n",
    "print(p2devID(p)[0])\n",
    "print(p2payload(p)[0])\n",
    "print(p2rssi(p)[0])\n",
    "print(p2time(p)[0])\n",
    "\n",
    "print('Are all of equal lenght?')  # using funky python chaning of operators here! :D\n",
    "print(len(p2devID(p)) == len(p2payload(p)) == len(p2rssi(p)) == len(p2time(p)))"
   ]
  },
  {
   "cell_type": "markdown",
   "id": "7667263a",
   "metadata": {},
   "source": [
    "Now that we can easily make lists, we can easily make a dataframe, which enables easier manipulation of data!"
   ]
  },
  {
   "cell_type": "code",
   "execution_count": null,
   "id": "9d6fcb9c",
   "metadata": {},
   "outputs": [],
   "source": [
    "pl = p2payload(p)\n",
    "df = pd.DataFrame({\n",
    "    'devID': p2devID(p),\n",
    "    'payload': pl,\n",
    "    'Temp1': [i['TempC_SHT'] for i in pl],\n",
    "    'Hum1': [i['Hum_SHT'] for i in pl],\n",
    "    'BatV': [i['BatV'] for i in pl],\n",
    "    'rssi': p2rssi(p),\n",
    "    'time': p2time(p),\n",
    "})\n",
    "df['time'] = pd.to_datetime(df['time'])  # need to be explicit about this, for the plotter to understand later\n",
    "df = df.set_index('time')  # having the date as inxed enables us to plot a series, without passing this explicitly"
   ]
  },
  {
   "cell_type": "code",
   "execution_count": null,
   "id": "82eaa543",
   "metadata": {},
   "outputs": [],
   "source": [
    "# this is how our dataframe now looks\n",
    "df"
   ]
  },
  {
   "cell_type": "markdown",
   "id": "ebe14904",
   "metadata": {},
   "source": [
    "So far, so good! We have asked for, received, parsed, filtered, and kneaded our data into a nice format. This was all done to facilitate plotting of the data. We will inspect the **temperature**, which was the main point, but also look at **signal strength** and **battery voltage**."
   ]
  },
  {
   "cell_type": "code",
   "execution_count": null,
   "id": "22747014",
   "metadata": {},
   "outputs": [],
   "source": [
    "def plotter(what='Temp1', ylabel=None, left='2021-01-01', right=None):\n",
    "    # create a plot from the data in df\n",
    "    dfp = df.copy()\n",
    "    \n",
    "    if left is not None:  # define where the plotting starts\n",
    "        left = pd.Timestamp(left, tz=\"Europe/Brussels\")\n",
    "        dfp = df.loc[df.index > left]\n",
    "    if right is not None:  # define where the plotting ends\n",
    "        right = pd.Timestamp(right, tz=\"Europe/Brussels\")\n",
    "        dfp = df.loc[df.index < right]\n",
    "\n",
    "    plt.figure(dpi=200)  # use 400 dpi to get a larger figure\n",
    "    for devID in sorted(set(dfp['devID'])):              # reduce the list of devID to a set, and sort it\n",
    "        data = dfp.loc[dfp['devID'] == devID][what]  # filter data for a given dev ID\n",
    "        plt.plot(data, label=devID)  # plot line with correct label\n",
    "    plt.legend()\n",
    "    plt.ylabel(ylabel)"
   ]
  },
  {
   "cell_type": "code",
   "execution_count": null,
   "id": "a26a9f76",
   "metadata": {},
   "outputs": [],
   "source": [
    "plotter(what='Temp1', ylabel='Grader celsius')"
   ]
  },
  {
   "cell_type": "code",
   "execution_count": null,
   "id": "3a5dc1da",
   "metadata": {},
   "outputs": [],
   "source": [
    "plotter(what='rssi', ylabel='Signalstyrke')"
   ]
  },
  {
   "cell_type": "code",
   "execution_count": null,
   "id": "c99c80f2",
   "metadata": {},
   "outputs": [],
   "source": [
    "plotter(what='BatV', ylabel='Batteristyrke')"
   ]
  },
  {
   "cell_type": "markdown",
   "id": "0d296dfb",
   "metadata": {},
   "source": [
    "... and that was the intitial test. Let's plot it all together!"
   ]
  },
  {
   "cell_type": "code",
   "execution_count": null,
   "id": "d3506a57",
   "metadata": {},
   "outputs": [],
   "source": [
    "def htplotter(left='2021-01-01', right=None):\n",
    "    # create a plot from the data in df\n",
    "    dfp = df.copy()\n",
    "    \n",
    "    if left is not None:  # define where the plotting starts\n",
    "        left = pd.Timestamp(left, tz=\"Europe/Brussels\")\n",
    "        dfp = df.loc[df.index > left]\n",
    "    if right is not None:  # define where the plotting ends\n",
    "        right = pd.Timestamp(right, tz=\"Europe/Brussels\")\n",
    "        dfp = df.loc[df.index < right]\n",
    "\n",
    "\n",
    "    fig, ax1 = plt.subplots(dpi=200)  # use 400 dpi to get a larger figure\n",
    "    ax2 = ax1.twinx()\n",
    "    ax2._get_lines.prop_cycler = ax1._get_lines.prop_cycler  # use same cycler for both axes\n",
    "     \n",
    "    for devID in sorted(set(dfp['devID'])):              # reduce the list of devID to a set, and sort it\n",
    "        data = dfp.loc[dfp['devID'] == devID]['Temp1']   # filter data for a given dev ID\n",
    "        ax1.plot(data, ls='-.', label=f'Temp {devID}')  # plot line with correct label\n",
    "        data = dfp.loc[dfp['devID'] == devID]['Hum1']   # filter data for a given dev ID\n",
    "        ax2.plot(data, ls='--', label=f'Hum {devID}')  # plot line with correct label\n",
    "    fig.legend()\n",
    "    ax1.set_ylabel('Temperature')\n",
    "    ax2.set_ylabel('Humidity')"
   ]
  },
  {
   "cell_type": "code",
   "execution_count": null,
   "id": "64380318",
   "metadata": {},
   "outputs": [],
   "source": [
    "htplotter()"
   ]
  }
 ],
 "metadata": {
  "kernelspec": {
   "display_name": "Python 3",
   "language": "python",
   "name": "python3"
  },
  "language_info": {
   "codemirror_mode": {
    "name": "ipython",
    "version": 3
   },
   "file_extension": ".py",
   "mimetype": "text/x-python",
   "name": "python",
   "nbconvert_exporter": "python",
   "pygments_lexer": "ipython3",
   "version": "3.8.8"
  }
 },
 "nbformat": 4,
 "nbformat_minor": 5
}
